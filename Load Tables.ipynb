{
 "cells": [
  {
   "cell_type": "code",
   "execution_count": 1,
   "metadata": {},
   "outputs": [],
   "source": [
    "import psycopg2\n",
    "import configparser\n",
    "import yfinance as yf\n",
    "import pandas as pd"
   ]
  },
  {
   "cell_type": "code",
   "execution_count": 2,
   "metadata": {},
   "outputs": [],
   "source": [
    "def create_connection():\n",
    "    conn = psycopg2.connect(\"host=127.0.0.1 dbname=dmqldb user=postgres password=student\")\n",
    "    cur = conn.cursor()       \n",
    "    return conn, cur\n",
    "\n",
    "conn, cur = create_connection()"
   ]
  },
  {
   "cell_type": "code",
   "execution_count": 3,
   "metadata": {},
   "outputs": [],
   "source": [
    "def load_data(conn, df, query):\n",
    "    \"\"\"\n",
    "    Using cursor.executemany() to insert the dataframe\n",
    "    \"\"\"\n",
    "    # Create a list of tupples from the dataframe values\n",
    "    tuples = [tuple(x) for x in df.to_numpy()]  \n",
    "    cursor = conn.cursor()\n",
    "    try:\n",
    "        cursor.executemany(query, tuples)\n",
    "        conn.commit()\n",
    "    except (Exception, psycopg2.DatabaseError) as error:\n",
    "        print(\"Error: %s\" % error)\n",
    "        conn.rollback()\n",
    "        cursor.close()\n",
    "        return 1\n",
    "    print(\"execute_many() done\")\n",
    "    cursor.close()"
   ]
  },
  {
   "cell_type": "code",
   "execution_count": 4,
   "metadata": {},
   "outputs": [
    {
     "name": "stdout",
     "output_type": "stream",
     "text": [
      "execute_many() done\n"
     ]
    }
   ],
   "source": [
    "df_market = pd.read_csv('Market.csv')\n",
    "market_insert_sql = \"\"\" INSERT INTO market VALUES (%s, %s, %s, %s) \"\"\"\n",
    "load_data(conn, df_market, market_insert_sql)"
   ]
  },
  {
   "cell_type": "code",
   "execution_count": 5,
   "metadata": {},
   "outputs": [],
   "source": [
    "symbols = ['MSFT', 'GOOGL']"
   ]
  },
  {
   "cell_type": "code",
   "execution_count": 6,
   "metadata": {},
   "outputs": [
    {
     "name": "stdout",
     "output_type": "stream",
     "text": [
      "execute_many() done\n",
      "execute_many() done\n"
     ]
    }
   ],
   "source": [
    "for symbol in symbols:\n",
    "    msft = yf.Ticker(symbol)\n",
    "    list_msft = msft.info\n",
    "    list_msft = pd.DataFrame([list_msft])\n",
    "    df_company = pd.DataFrame()\n",
    "    df_company['Name'] = list_msft['longName']\n",
    "    df_company['Sector']= list_msft['sector']\n",
    "    df_company.insert(0, \"Symbol\", symbol, True)\n",
    "    company_insert_sql = \"\"\" INSERT INTO company VALUES (%s, %s, %s) \"\"\"\n",
    "    load_data(conn, df_company, company_insert_sql)"
   ]
  },
  {
   "cell_type": "code",
   "execution_count": 7,
   "metadata": {},
   "outputs": [
    {
     "name": "stdout",
     "output_type": "stream",
     "text": [
      "execute_many() done\n",
      "execute_many() done\n"
     ]
    }
   ],
   "source": [
    "for symbol in symbols:\n",
    "    msft = yf.Ticker(symbol)\n",
    "    df_hist = msft.history(period='max')\n",
    "    df_hist.reset_index(level=0, inplace=True)\n",
    "    df_hist.insert(0, \"Symbol\", symbol, True)\n",
    "    df_hist.insert(0, \"Market\", 'NYSE', True)\n",
    "    hist_insert_sql = \"\"\" INSERT INTO stock_history VALUES (%s, %s, %s, %s, %s, %s, %s, %s, %s, %s) \"\"\"\n",
    "    load_data(conn, df_hist, hist_insert_sql)"
   ]
  },
  {
   "cell_type": "code",
   "execution_count": 8,
   "metadata": {},
   "outputs": [],
   "source": [
    "conn.close()"
   ]
  }
 ],
 "metadata": {
  "kernelspec": {
   "display_name": "Python 3",
   "language": "python",
   "name": "python3"
  },
  "language_info": {
   "codemirror_mode": {
    "name": "ipython",
    "version": 3
   },
   "file_extension": ".py",
   "mimetype": "text/x-python",
   "name": "python",
   "nbconvert_exporter": "python",
   "pygments_lexer": "ipython3",
   "version": "3.8.5"
  }
 },
 "nbformat": 4,
 "nbformat_minor": 4
}
